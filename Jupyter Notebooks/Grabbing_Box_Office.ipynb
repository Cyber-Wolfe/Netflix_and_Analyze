{
 "cells": [
  {
   "cell_type": "code",
   "execution_count": null,
   "id": "0210ba04",
   "metadata": {},
   "outputs": [],
   "source": [
    "import pandas as pd\n",
    "import numpy as np\n",
    "import csv\n",
    "import os\n",
    "from pathlib import Path"
   ]
  },
  {
   "cell_type": "code",
   "execution_count": null,
   "id": "c3e50d0c",
   "metadata": {},
   "outputs": [],
   "source": [
    "original_netflix_df = pd.read_excel('../Excel Sheets/Netflix_Dataset_Latest_2021(base).xlsx', engine='openpyxl')\n",
    "original_netflix_df"
   ]
  },
  {
   "cell_type": "code",
   "execution_count": null,
   "id": "6c6145f4",
   "metadata": {},
   "outputs": [],
   "source": [
    "data_df = pd.read_excel('../Excel Sheets/Netflix Dataset Latest 2021 Filtered - Data.xlsx', engine='openpyxl')\n",
    "data_df"
   ]
  },
  {
   "cell_type": "code",
   "execution_count": null,
   "id": "f9c7b620",
   "metadata": {},
   "outputs": [],
   "source": [
    "n_df = pd.read_excel('../Excel Sheets/Netflix_Dataset_Latest_2021(base).xlsx', engine='openpyxl')\n",
    "n_df.drop(columns=[\"Country Availability\",\"Genre\",\"Hidden Gem Score\",\"IMDb Score\",\"Runtime\",\"Rotten Tomatoes Score\",\"Director\",\"Writer\",\"Actors\",\"Awards Received\",\"Awards Nominated For\",\"Netflix Release Date\",\"Production House\",\"Netflix Link\",\"Summary\",\"IMDb Votes\",\"Image\",\"Poster\",\"TMDb Trailer\",\"Trailer Site\",\"IMDb Link\",\"Languages\",\"Tags\",\"Series or Movie\",\"Release Date\",\"View Rating\"], inplace=True)"
   ]
  },
  {
   "cell_type": "code",
   "execution_count": null,
   "id": "d059cfdc",
   "metadata": {},
   "outputs": [],
   "source": [
    "n_df"
   ]
  },
  {
   "cell_type": "code",
   "execution_count": null,
   "id": "49a72c35",
   "metadata": {},
   "outputs": [],
   "source": [
    "original_netflix_df.columns.tolist()"
   ]
  },
  {
   "cell_type": "code",
   "execution_count": null,
   "id": "7cac4a47",
   "metadata": {},
   "outputs": [],
   "source": [
    "original_netflix_df"
   ]
  },
  {
   "cell_type": "code",
   "execution_count": null,
   "id": "dcc771fe",
   "metadata": {},
   "outputs": [],
   "source": [
    "original_netflix_df.drop(columns=[\"Country Availability\",\"Runtime\",\"Director\",\"Writer\",\"Actors\",\"Awards Received\",\"Awards Nominated For\",\"Netflix Release Date\",\"Production House\",\"Netflix Link\",\"Summary\",\"IMDb Votes\",\"Image\",\"Poster\",\"TMDb Trailer\",\"Trailer Site\",\"IMDb Link\",\"Languages\",\"Tags\",\"Series or Movie\",\"Release Date\",\"View Rating\"], inplace=True)"
   ]
  }
 ],
 "metadata": {
  "kernelspec": {
   "display_name": "Python 3 (ipykernel)",
   "language": "python",
   "name": "python3"
  },
  "language_info": {
   "codemirror_mode": {
    "name": "ipython",
    "version": 3
   },
   "file_extension": ".py",
   "mimetype": "text/x-python",
   "name": "python",
   "nbconvert_exporter": "python",
   "pygments_lexer": "ipython3",
   "version": "3.9.7"
  }
 },
 "nbformat": 4,
 "nbformat_minor": 5
}
