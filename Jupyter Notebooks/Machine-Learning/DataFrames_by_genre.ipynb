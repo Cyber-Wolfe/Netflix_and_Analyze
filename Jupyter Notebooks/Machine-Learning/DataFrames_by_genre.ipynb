{
 "cells": [
  {
   "cell_type": "code",
   "execution_count": null,
   "id": "251959d8",
   "metadata": {},
   "outputs": [],
   "source": [
    "%matplotlib inline\n",
    "import numpy as np\n",
    "import pandas as pd\n",
    "from pathlib import Path\n",
    "import matplotlib.pyplot as plt\n",
    "from sklearn.datasets import make_regression\n",
    "from sklearn.linear_model import LinearRegression"
   ]
  },
  {
   "cell_type": "code",
   "execution_count": null,
   "id": "ecb08ae7",
   "metadata": {},
   "outputs": [],
   "source": [
    "Score_Genre_df = pd.read_csv(\"../../csv_file/Score_Genre.csv\")\n",
    "Score_Genre_df = Score_Genre_df.set_index('Key')\n",
    "Score_Genre_df"
   ]
  },
  {
   "cell_type": "code",
   "execution_count": null,
   "id": "c0c0d6fa",
   "metadata": {},
   "outputs": [],
   "source": [
    "# Turns out that category is entirely empty\n",
    "Score_Genre_df = Score_Genre_df.drop([\"SHORT_WAR\"], axis = 1)\n",
    "Score_Genre_df"
   ]
  },
  {
   "cell_type": "code",
   "execution_count": null,
   "id": "2a711b38",
   "metadata": {
    "scrolled": true
   },
   "outputs": [],
   "source": [
    "Score_Genre_df.rename(columns = {\"SCI-FI\": \"SCI_FI\", \"REALITY-TV\":\"REALITY_TV\",\"TALK-SHOW\":\"TALK_SHOW\",\"GAME-SHOW\":\"GAME_SHOW\"}, inplace = True)\n",
    "Score_Genre_df"
   ]
  },
  {
   "cell_type": "code",
   "execution_count": null,
   "id": "34f2808a",
   "metadata": {},
   "outputs": [],
   "source": [
    "Score_Genre_df.SHORT_WAR"
   ]
  },
  {
   "cell_type": "code",
   "execution_count": null,
   "id": "13696ec8",
   "metadata": {},
   "outputs": [],
   "source": [
    "# Grabbing all column names to see all genre names\n",
    "# Then giving each genre its own DataFrame\n",
    "for col in Score_Genre_df.columns:\n",
    "    print(col)"
   ]
  },
  {
   "cell_type": "code",
   "execution_count": null,
   "id": "a4134d5f",
   "metadata": {},
   "outputs": [],
   "source": [
    "# Action\n",
    "Score_Genre_df_Action = Score_Genre_df.filter(['Hidden_Gem_Score','IMDb_Score','Rotten_Tomatoes_Score','Metacritic_Score', 'ACTION'])\n",
    "Score_Genre_df_Action = Score_Genre_df_Action[Score_Genre_df_Action['ACTION']!= 0]\n",
    "Score_Genre_df_Action"
   ]
  },
  {
   "cell_type": "code",
   "execution_count": null,
   "id": "0516f5f9",
   "metadata": {},
   "outputs": [],
   "source": [
    "#Drama\n",
    "Score_Genre_df_Drama = Score_Genre_df.filter(['Hidden_Gem_Score','IMDb_Score','Rotten_Tomatoes_Score','Metacritic_Score', 'DRAMA'])\n",
    "Score_Genre_df_Drama = Score_Genre_df_Drama[Score_Genre_df_Drama['DRAMA']!= 0]\n",
    "Score_Genre_df_Drama"
   ]
  },
  {
   "cell_type": "code",
   "execution_count": null,
   "id": "a010d684",
   "metadata": {},
   "outputs": [],
   "source": [
    "#Science-Fiction\n",
    "Score_Genre_df_SciFi = Score_Genre_df.filter(['Hidden_Gem_Score','IMDb_Score','Rotten_Tomatoes_Score','Metacritic_Score', 'SCI_FI'])\n",
    "Score_Genre_df_SciFi = Score_Genre_df_SciFi[Score_Genre_df_SciFi['SCI_FI']!= 0]\n",
    "Score_Genre_df_SciFi"
   ]
  },
  {
   "cell_type": "code",
   "execution_count": null,
   "id": "89883c29",
   "metadata": {},
   "outputs": [],
   "source": [
    "#THRILLER\n",
    "Score_Genre_df_Thriller = Score_Genre_df.filter(['Hidden_Gem_Score','IMDb_Score','Rotten_Tomatoes_Score','Metacritic_Score', 'THRILLER'])\n",
    "Score_Genre_df_Thriller = Score_Genre_df_Thriller[Score_Genre_df_Thriller['THRILLER']!= 0]\n",
    "Score_Genre_df_Thriller"
   ]
  },
  {
   "cell_type": "code",
   "execution_count": null,
   "id": "76d50d0f",
   "metadata": {},
   "outputs": [],
   "source": [
    "# Science-Fiction\n",
    "Score_Genre_df_SciFi = Score_Genre_df.filter(['Hidden_Gem_Score','IMDb_Score','Rotten_Tomatoes_Score','Metacritic_Score', 'SCI_FI'])\n",
    "Score_Genre_df_SciFi = Score_Genre_df_SciFi[Score_Genre_df_SciFi['SCI_FI']!= 0]\n",
    "Score_Genre_df_SciFi"
   ]
  },
  {
   "cell_type": "code",
   "execution_count": null,
   "id": "c445b693",
   "metadata": {},
   "outputs": [],
   "source": [
    "# MYSTERY\n",
    "Score_Genre_df_Mystery = Score_Genre_df.filter(['Hidden_Gem_Score','IMDb_Score','Rotten_Tomatoes_Score','Metacritic_Score', 'MYSTERY'])\n",
    "Score_Genre_df_Mystery = Score_Genre_df_Mystery[Score_Genre_df_Mystery['MYSTERY']!= 0]\n",
    "Score_Genre_df_Mystery"
   ]
  },
  {
   "cell_type": "code",
   "execution_count": null,
   "id": "599fcb15",
   "metadata": {},
   "outputs": [],
   "source": [
    "# History\n",
    "Score_Genre_df_History = Score_Genre_df.filter(['Hidden_Gem_Score','IMDb_Score','Rotten_Tomatoes_Score','Metacritic_Score', 'HISTORY'])\n",
    "Score_Genre_df_History = Score_Genre_df_History[Score_Genre_df_History['HISTORY']!= 0]\n",
    "Score_Genre_df_History"
   ]
  },
  {
   "cell_type": "code",
   "execution_count": null,
   "id": "dd855390",
   "metadata": {},
   "outputs": [],
   "source": [
    "# Short-War\n",
    "Score_Genre_df_ShortWar = Score_Genre_df.filter(['Hidden_Gem_Score','IMDb_Score','Rotten_Tomatoes_Score','Metacritic_Score', 'SHORT_WAR'])\n",
    "Score_Genre_df_ShortWar = Score_Genre_df_ShortWar[Score_Genre_df_ShortWar['SHORT_WAR']!= 0]\n",
    "Score_Genre_df_ShortWar"
   ]
  },
  {
   "cell_type": "code",
   "execution_count": null,
   "id": "9af0655f",
   "metadata": {},
   "outputs": [],
   "source": []
  }
 ],
 "metadata": {
  "kernelspec": {
   "display_name": "Python 3 (ipykernel)",
   "language": "python",
   "name": "python3"
  },
  "language_info": {
   "codemirror_mode": {
    "name": "ipython",
    "version": 3
   },
   "file_extension": ".py",
   "mimetype": "text/x-python",
   "name": "python",
   "nbconvert_exporter": "python",
   "pygments_lexer": "ipython3",
   "version": "3.9.12"
  }
 },
 "nbformat": 4,
 "nbformat_minor": 5
}
