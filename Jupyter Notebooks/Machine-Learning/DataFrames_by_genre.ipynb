{
 "cells": [
  {
   "cell_type": "code",
   "execution_count": 1,
   "id": "251959d8",
   "metadata": {},
   "outputs": [],
   "source": [
    "%matplotlib inline\n",
    "import numpy as np\n",
    "import pandas as pd\n",
    "from pathlib import Path\n",
    "import matplotlib.pyplot as plt\n",
    "from sklearn.datasets import make_regression\n",
    "from sklearn.linear_model import LinearRegression\n",
    "from sklearn.model_selection import train_test_split"
   ]
  },
  {
   "cell_type": "code",
   "execution_count": 2,
   "id": "ecb08ae7",
   "metadata": {},
   "outputs": [
    {
     "data": {
      "text/html": [
       "<div>\n",
       "<style scoped>\n",
       "    .dataframe tbody tr th:only-of-type {\n",
       "        vertical-align: middle;\n",
       "    }\n",
       "\n",
       "    .dataframe tbody tr th {\n",
       "        vertical-align: top;\n",
       "    }\n",
       "\n",
       "    .dataframe thead th {\n",
       "        text-align: right;\n",
       "    }\n",
       "</style>\n",
       "<table border=\"1\" class=\"dataframe\">\n",
       "  <thead>\n",
       "    <tr style=\"text-align: right;\">\n",
       "      <th></th>\n",
       "      <th>Hidden_Gem_Score</th>\n",
       "      <th>IMDb_Score</th>\n",
       "      <th>Rotten_Tomatoes_Score</th>\n",
       "      <th>Metacritic_Score</th>\n",
       "      <th>ACTION</th>\n",
       "      <th>DRAMA</th>\n",
       "      <th>SCI_FI</th>\n",
       "      <th>THRILLER</th>\n",
       "      <th>MYSTERY</th>\n",
       "      <th>HISTORY</th>\n",
       "      <th>...</th>\n",
       "      <th>HORROR</th>\n",
       "      <th>DOCUMENTARY</th>\n",
       "      <th>WESTERN</th>\n",
       "      <th>BIOGRAPHY</th>\n",
       "      <th>FAMILY</th>\n",
       "      <th>MUSIC</th>\n",
       "      <th>MUSICAL</th>\n",
       "      <th>FANTASY</th>\n",
       "      <th>WAR</th>\n",
       "      <th>NEWS</th>\n",
       "    </tr>\n",
       "    <tr>\n",
       "      <th>Key</th>\n",
       "      <th></th>\n",
       "      <th></th>\n",
       "      <th></th>\n",
       "      <th></th>\n",
       "      <th></th>\n",
       "      <th></th>\n",
       "      <th></th>\n",
       "      <th></th>\n",
       "      <th></th>\n",
       "      <th></th>\n",
       "      <th></th>\n",
       "      <th></th>\n",
       "      <th></th>\n",
       "      <th></th>\n",
       "      <th></th>\n",
       "      <th></th>\n",
       "      <th></th>\n",
       "      <th></th>\n",
       "      <th></th>\n",
       "      <th></th>\n",
       "      <th></th>\n",
       "    </tr>\n",
       "  </thead>\n",
       "  <tbody>\n",
       "    <tr>\n",
       "      <th>5</th>\n",
       "      <td>16.0</td>\n",
       "      <td>61.0</td>\n",
       "      <td>8.0</td>\n",
       "      <td>29.0</td>\n",
       "      <td>0</td>\n",
       "      <td>1</td>\n",
       "      <td>0</td>\n",
       "      <td>1</td>\n",
       "      <td>0</td>\n",
       "      <td>0</td>\n",
       "      <td>...</td>\n",
       "      <td>0</td>\n",
       "      <td>0</td>\n",
       "      <td>0</td>\n",
       "      <td>0</td>\n",
       "      <td>0</td>\n",
       "      <td>0</td>\n",
       "      <td>0</td>\n",
       "      <td>0</td>\n",
       "      <td>0</td>\n",
       "      <td>0</td>\n",
       "    </tr>\n",
       "    <tr>\n",
       "      <th>6</th>\n",
       "      <td>25.0</td>\n",
       "      <td>68.0</td>\n",
       "      <td>36.0</td>\n",
       "      <td>48.0</td>\n",
       "      <td>0</td>\n",
       "      <td>1</td>\n",
       "      <td>0</td>\n",
       "      <td>1</td>\n",
       "      <td>0</td>\n",
       "      <td>1</td>\n",
       "      <td>...</td>\n",
       "      <td>0</td>\n",
       "      <td>0</td>\n",
       "      <td>0</td>\n",
       "      <td>0</td>\n",
       "      <td>0</td>\n",
       "      <td>0</td>\n",
       "      <td>0</td>\n",
       "      <td>0</td>\n",
       "      <td>0</td>\n",
       "      <td>0</td>\n",
       "    </tr>\n",
       "    <tr>\n",
       "      <th>8</th>\n",
       "      <td>36.0</td>\n",
       "      <td>75.0</td>\n",
       "      <td>81.0</td>\n",
       "      <td>62.0</td>\n",
       "      <td>0</td>\n",
       "      <td>1</td>\n",
       "      <td>0</td>\n",
       "      <td>0</td>\n",
       "      <td>0</td>\n",
       "      <td>0</td>\n",
       "      <td>...</td>\n",
       "      <td>0</td>\n",
       "      <td>0</td>\n",
       "      <td>0</td>\n",
       "      <td>1</td>\n",
       "      <td>0</td>\n",
       "      <td>0</td>\n",
       "      <td>0</td>\n",
       "      <td>0</td>\n",
       "      <td>0</td>\n",
       "      <td>0</td>\n",
       "    </tr>\n",
       "    <tr>\n",
       "      <th>15</th>\n",
       "      <td>42.0</td>\n",
       "      <td>83.0</td>\n",
       "      <td>89.0</td>\n",
       "      <td>78.0</td>\n",
       "      <td>0</td>\n",
       "      <td>1</td>\n",
       "      <td>0</td>\n",
       "      <td>1</td>\n",
       "      <td>0</td>\n",
       "      <td>0</td>\n",
       "      <td>...</td>\n",
       "      <td>0</td>\n",
       "      <td>0</td>\n",
       "      <td>0</td>\n",
       "      <td>0</td>\n",
       "      <td>0</td>\n",
       "      <td>0</td>\n",
       "      <td>0</td>\n",
       "      <td>0</td>\n",
       "      <td>1</td>\n",
       "      <td>0</td>\n",
       "    </tr>\n",
       "    <tr>\n",
       "      <th>16</th>\n",
       "      <td>37.0</td>\n",
       "      <td>63.0</td>\n",
       "      <td>91.0</td>\n",
       "      <td>70.0</td>\n",
       "      <td>0</td>\n",
       "      <td>1</td>\n",
       "      <td>0</td>\n",
       "      <td>1</td>\n",
       "      <td>1</td>\n",
       "      <td>0</td>\n",
       "      <td>...</td>\n",
       "      <td>1</td>\n",
       "      <td>0</td>\n",
       "      <td>0</td>\n",
       "      <td>0</td>\n",
       "      <td>0</td>\n",
       "      <td>0</td>\n",
       "      <td>0</td>\n",
       "      <td>0</td>\n",
       "      <td>0</td>\n",
       "      <td>0</td>\n",
       "    </tr>\n",
       "  </tbody>\n",
       "</table>\n",
       "<p>5 rows × 26 columns</p>\n",
       "</div>"
      ],
      "text/plain": [
       "     Hidden_Gem_Score  IMDb_Score  Rotten_Tomatoes_Score  Metacritic_Score  \\\n",
       "Key                                                                          \n",
       "5                16.0        61.0                    8.0              29.0   \n",
       "6                25.0        68.0                   36.0              48.0   \n",
       "8                36.0        75.0                   81.0              62.0   \n",
       "15               42.0        83.0                   89.0              78.0   \n",
       "16               37.0        63.0                   91.0              70.0   \n",
       "\n",
       "     ACTION  DRAMA  SCI_FI  THRILLER  MYSTERY  HISTORY  ...  HORROR  \\\n",
       "Key                                                     ...           \n",
       "5         0      1       0         1        0        0  ...       0   \n",
       "6         0      1       0         1        0        1  ...       0   \n",
       "8         0      1       0         0        0        0  ...       0   \n",
       "15        0      1       0         1        0        0  ...       0   \n",
       "16        0      1       0         1        1        0  ...       1   \n",
       "\n",
       "     DOCUMENTARY  WESTERN  BIOGRAPHY  FAMILY  MUSIC  MUSICAL  FANTASY  WAR  \\\n",
       "Key                                                                          \n",
       "5              0        0          0       0      0        0        0    0   \n",
       "6              0        0          0       0      0        0        0    0   \n",
       "8              0        0          1       0      0        0        0    0   \n",
       "15             0        0          0       0      0        0        0    1   \n",
       "16             0        0          0       0      0        0        0    0   \n",
       "\n",
       "     NEWS  \n",
       "Key        \n",
       "5       0  \n",
       "6       0  \n",
       "8       0  \n",
       "15      0  \n",
       "16      0  \n",
       "\n",
       "[5 rows x 26 columns]"
      ]
     },
     "execution_count": 2,
     "metadata": {},
     "output_type": "execute_result"
    }
   ],
   "source": [
    "Score_Genre_df = pd.read_csv(\"../../csv_file/Score_Genre.csv\")\n",
    "Score_Genre_df = Score_Genre_df.set_index('Key')\n",
    "\n",
    "# Empty columns need to be dropped after merge\n",
    "# Trial and error of making DataFrames found that these four columns were all null\n",
    "Score_Genre_df = Score_Genre_df.drop(['SHORT WAR', 'REALITY-TV', 'TALK-SHOW', 'GAME-SHOW'], axis=1)\n",
    "\n",
    "Score_Genre_df.rename(columns = {\"SCI-FI\": \"SCI_FI\"}, inplace = True)\n",
    "Score_Genre_df.head()"
   ]
  },
  {
   "cell_type": "code",
   "execution_count": 3,
   "id": "13696ec8",
   "metadata": {},
   "outputs": [
    {
     "name": "stdout",
     "output_type": "stream",
     "text": [
      "Hidden_Gem_Score\n",
      "IMDb_Score\n",
      "Rotten_Tomatoes_Score\n",
      "Metacritic_Score\n",
      "ACTION\n",
      "DRAMA\n",
      "SCI_FI\n",
      "THRILLER\n",
      "MYSTERY\n",
      "HISTORY\n",
      "CRIME\n",
      "ADVENTURE\n",
      "ANIMATION\n",
      "COMEDY\n",
      "ROMANCE\n",
      "SPORT\n",
      "HORROR\n",
      "DOCUMENTARY\n",
      "WESTERN\n",
      "BIOGRAPHY\n",
      "FAMILY\n",
      "MUSIC\n",
      "MUSICAL\n",
      "FANTASY\n",
      "WAR\n",
      "NEWS\n"
     ]
    }
   ],
   "source": [
    "# Grabbing all column names to see all genre names\n",
    "# Then giving each genre its own DataFrame\n",
    "for col in Score_Genre_df.columns:\n",
    "    print(col)"
   ]
  },
  {
   "cell_type": "code",
   "execution_count": 4,
   "id": "a4134d5f",
   "metadata": {},
   "outputs": [
    {
     "data": {
      "text/html": [
       "<div>\n",
       "<style scoped>\n",
       "    .dataframe tbody tr th:only-of-type {\n",
       "        vertical-align: middle;\n",
       "    }\n",
       "\n",
       "    .dataframe tbody tr th {\n",
       "        vertical-align: top;\n",
       "    }\n",
       "\n",
       "    .dataframe thead th {\n",
       "        text-align: right;\n",
       "    }\n",
       "</style>\n",
       "<table border=\"1\" class=\"dataframe\">\n",
       "  <thead>\n",
       "    <tr style=\"text-align: right;\">\n",
       "      <th></th>\n",
       "      <th>Hidden_Gem_Score</th>\n",
       "      <th>IMDb_Score</th>\n",
       "      <th>Rotten_Tomatoes_Score</th>\n",
       "      <th>Metacritic_Score</th>\n",
       "      <th>ACTION</th>\n",
       "    </tr>\n",
       "    <tr>\n",
       "      <th>Key</th>\n",
       "      <th></th>\n",
       "      <th></th>\n",
       "      <th></th>\n",
       "      <th></th>\n",
       "      <th></th>\n",
       "    </tr>\n",
       "  </thead>\n",
       "  <tbody>\n",
       "    <tr>\n",
       "      <th>21</th>\n",
       "      <td>24.0</td>\n",
       "      <td>58.0</td>\n",
       "      <td>39.0</td>\n",
       "      <td>49.0</td>\n",
       "      <td>1</td>\n",
       "    </tr>\n",
       "    <tr>\n",
       "      <th>35</th>\n",
       "      <td>31.0</td>\n",
       "      <td>65.0</td>\n",
       "      <td>68.0</td>\n",
       "      <td>52.0</td>\n",
       "      <td>1</td>\n",
       "    </tr>\n",
       "    <tr>\n",
       "      <th>36</th>\n",
       "      <td>22.0</td>\n",
       "      <td>50.0</td>\n",
       "      <td>40.0</td>\n",
       "      <td>45.0</td>\n",
       "      <td>1</td>\n",
       "    </tr>\n",
       "    <tr>\n",
       "      <th>37</th>\n",
       "      <td>29.0</td>\n",
       "      <td>53.0</td>\n",
       "      <td>68.0</td>\n",
       "      <td>53.0</td>\n",
       "      <td>1</td>\n",
       "    </tr>\n",
       "    <tr>\n",
       "      <th>40</th>\n",
       "      <td>16.0</td>\n",
       "      <td>51.0</td>\n",
       "      <td>9.0</td>\n",
       "      <td>34.0</td>\n",
       "      <td>1</td>\n",
       "    </tr>\n",
       "    <tr>\n",
       "      <th>...</th>\n",
       "      <td>...</td>\n",
       "      <td>...</td>\n",
       "      <td>...</td>\n",
       "      <td>...</td>\n",
       "      <td>...</td>\n",
       "    </tr>\n",
       "    <tr>\n",
       "      <th>9379</th>\n",
       "      <td>43.0</td>\n",
       "      <td>74.0</td>\n",
       "      <td>76.0</td>\n",
       "      <td>63.0</td>\n",
       "      <td>1</td>\n",
       "    </tr>\n",
       "    <tr>\n",
       "      <th>9389</th>\n",
       "      <td>34.0</td>\n",
       "      <td>62.0</td>\n",
       "      <td>76.0</td>\n",
       "      <td>67.0</td>\n",
       "      <td>1</td>\n",
       "    </tr>\n",
       "    <tr>\n",
       "      <th>9406</th>\n",
       "      <td>32.0</td>\n",
       "      <td>67.0</td>\n",
       "      <td>68.0</td>\n",
       "      <td>55.0</td>\n",
       "      <td>1</td>\n",
       "    </tr>\n",
       "    <tr>\n",
       "      <th>9412</th>\n",
       "      <td>12.0</td>\n",
       "      <td>44.0</td>\n",
       "      <td>4.0</td>\n",
       "      <td>26.0</td>\n",
       "      <td>1</td>\n",
       "    </tr>\n",
       "    <tr>\n",
       "      <th>9419</th>\n",
       "      <td>42.0</td>\n",
       "      <td>85.0</td>\n",
       "      <td>93.0</td>\n",
       "      <td>75.0</td>\n",
       "      <td>1</td>\n",
       "    </tr>\n",
       "  </tbody>\n",
       "</table>\n",
       "<p>1061 rows × 5 columns</p>\n",
       "</div>"
      ],
      "text/plain": [
       "      Hidden_Gem_Score  IMDb_Score  Rotten_Tomatoes_Score  Metacritic_Score  \\\n",
       "Key                                                                           \n",
       "21                24.0        58.0                   39.0              49.0   \n",
       "35                31.0        65.0                   68.0              52.0   \n",
       "36                22.0        50.0                   40.0              45.0   \n",
       "37                29.0        53.0                   68.0              53.0   \n",
       "40                16.0        51.0                    9.0              34.0   \n",
       "...                ...         ...                    ...               ...   \n",
       "9379              43.0        74.0                   76.0              63.0   \n",
       "9389              34.0        62.0                   76.0              67.0   \n",
       "9406              32.0        67.0                   68.0              55.0   \n",
       "9412              12.0        44.0                    4.0              26.0   \n",
       "9419              42.0        85.0                   93.0              75.0   \n",
       "\n",
       "      ACTION  \n",
       "Key           \n",
       "21         1  \n",
       "35         1  \n",
       "36         1  \n",
       "37         1  \n",
       "40         1  \n",
       "...      ...  \n",
       "9379       1  \n",
       "9389       1  \n",
       "9406       1  \n",
       "9412       1  \n",
       "9419       1  \n",
       "\n",
       "[1061 rows x 5 columns]"
      ]
     },
     "execution_count": 4,
     "metadata": {},
     "output_type": "execute_result"
    }
   ],
   "source": [
    "# Action\n",
    "Score_Genre_df_Action = Score_Genre_df.filter(['Hidden_Gem_Score','IMDb_Score','Rotten_Tomatoes_Score','Metacritic_Score', 'ACTION'])\n",
    "Score_Genre_df_Action = Score_Genre_df_Action[Score_Genre_df_Action['ACTION']!= 0]\n",
    "Score_Genre_df_Action"
   ]
  },
  {
   "cell_type": "code",
   "execution_count": 5,
   "id": "4fb55a51",
   "metadata": {},
   "outputs": [
    {
     "data": {
      "text/plain": [
       "<matplotlib.collections.PathCollection at 0x293761c7c10>"
      ]
     },
     "execution_count": 5,
     "metadata": {},
     "output_type": "execute_result"
    },
    {
     "data": {
      "image/png": "[encoded data removed]",
      "text/plain": [
       "<Figure size 432x288 with 1 Axes>"
      ]
     },
     "metadata": {
      "needs_background": "light"
     },
     "output_type": "display_data"
    }
   ],
   "source": [
    "X = Score_Genre_df_Action.IMDb_Score\n",
    "y = Score_Genre_df_Action.Rotten_Tomatoes_Score\n",
    "\n",
    "plt.xlabel('IMDb Score')\n",
    "plt.ylabel('Rotten Tomatoes Score')\n",
    "plt.scatter(X, y)"
   ]
  },
  {
   "cell_type": "code",
   "execution_count": 16,
   "id": "1602ddbf",
   "metadata": {},
   "outputs": [
    {
     "data": {
      "text/plain": [
       "LinearRegression()"
      ]
     },
     "execution_count": 16,
     "metadata": {},
     "output_type": "execute_result"
    }
   ],
   "source": [
    "X = X.reshape(-1, 1)\n",
    "y = y.reshape(-1, 1)\n",
    "\n",
    "model = LinearRegression()\n",
    "model.fit(X, y)"
   ]
  },
  {
   "cell_type": "code",
   "execution_count": 17,
   "id": "9de6953b",
   "metadata": {},
   "outputs": [
    {
     "name": "stdout",
     "output_type": "stream",
     "text": [
      "Weight coefficients:  [[2.17089258]]\n",
      "y-axis intercept:  [-85.99657895]\n"
     ]
    }
   ],
   "source": [
    "print('Weight coefficients: ', model.coef_)\n",
    "print('y-axis intercept: ', model.intercept_) "
   ]
  },
  {
   "cell_type": "code",
   "execution_count": null,
   "id": "0516f5f9",
   "metadata": {},
   "outputs": [],
   "source": [
    "# Drama\n",
    "Score_Genre_df_Drama = Score_Genre_df.filter(['Hidden_Gem_Score','IMDb_Score','Rotten_Tomatoes_Score','Metacritic_Score', 'DRAMA'])\n",
    "Score_Genre_df_Drama = Score_Genre_df_Drama[Score_Genre_df_Drama['DRAMA']!= 0]\n",
    "Score_Genre_df_Drama"
   ]
  },
  {
   "cell_type": "code",
   "execution_count": null,
   "id": "a010d684",
   "metadata": {},
   "outputs": [],
   "source": [
    "# Science-Fiction\n",
    "Score_Genre_df_SciFi = Score_Genre_df.filter(['Hidden_Gem_Score','IMDb_Score','Rotten_Tomatoes_Score','Metacritic_Score', 'SCI_FI'])\n",
    "Score_Genre_df_SciFi = Score_Genre_df_SciFi[Score_Genre_df_SciFi['SCI_FI']!= 0]\n",
    "Score_Genre_df_SciFi"
   ]
  },
  {
   "cell_type": "code",
   "execution_count": null,
   "id": "89883c29",
   "metadata": {},
   "outputs": [],
   "source": [
    "# Thriller\n",
    "Score_Genre_df_Thriller = Score_Genre_df.filter(['Hidden_Gem_Score','IMDb_Score','Rotten_Tomatoes_Score','Metacritic_Score', 'THRILLER'])\n",
    "Score_Genre_df_Thriller = Score_Genre_df_Thriller[Score_Genre_df_Thriller['THRILLER']!= 0]\n",
    "Score_Genre_df_Thriller"
   ]
  },
  {
   "cell_type": "code",
   "execution_count": null,
   "id": "c445b693",
   "metadata": {},
   "outputs": [],
   "source": [
    "# Mystery\n",
    "Score_Genre_df_Mystery = Score_Genre_df.filter(['Hidden_Gem_Score','IMDb_Score','Rotten_Tomatoes_Score','Metacritic_Score', 'MYSTERY'])\n",
    "Score_Genre_df_Mystery = Score_Genre_df_Mystery[Score_Genre_df_Mystery['MYSTERY']!= 0]\n",
    "Score_Genre_df_Mystery"
   ]
  },
  {
   "cell_type": "code",
   "execution_count": null,
   "id": "599fcb15",
   "metadata": {},
   "outputs": [],
   "source": [
    "# History\n",
    "Score_Genre_df_History = Score_Genre_df.filter(['Hidden_Gem_Score','IMDb_Score','Rotten_Tomatoes_Score','Metacritic_Score', 'HISTORY'])\n",
    "Score_Genre_df_History = Score_Genre_df_History[Score_Genre_df_History['HISTORY']!= 0]\n",
    "Score_Genre_df_History"
   ]
  },
  {
   "cell_type": "code",
   "execution_count": null,
   "id": "dd855390",
   "metadata": {},
   "outputs": [],
   "source": [
    "# Crime\n",
    "Score_Genre_df_Crime = Score_Genre_df.filter(['Hidden_Gem_Score','IMDb_Score','Rotten_Tomatoes_Score','Metacritic_Score', 'CRIME'])\n",
    "Score_Genre_df_Crime = Score_Genre_df_Crime[Score_Genre_df_Crime['CRIME']!= 0]\n",
    "Score_Genre_df_Crime"
   ]
  },
  {
   "cell_type": "code",
   "execution_count": null,
   "id": "6e2fee3d",
   "metadata": {},
   "outputs": [],
   "source": [
    "# Adventure\n",
    "Score_Genre_df_Adventure = Score_Genre_df.filter(['Hidden_Gem_Score','IMDb_Score','Rotten_Tomatoes_Score','Metacritic_Score', 'ADVENTURE'])\n",
    "Score_Genre_df_Adventure = Score_Genre_df_Adventure[Score_Genre_df_Adventure['ADVENTURE']!= 0]\n",
    "Score_Genre_df_Adventure"
   ]
  },
  {
   "cell_type": "code",
   "execution_count": null,
   "id": "9af0655f",
   "metadata": {},
   "outputs": [],
   "source": [
    "# Animation\n",
    "Score_Genre_df_Animation = Score_Genre_df.filter(['Hidden_Gem_Score','IMDb_Score','Rotten_Tomatoes_Score','Metacritic_Score', 'ANIMATION'])\n",
    "Score_Genre_df_Animation = Score_Genre_df_Animation[Score_Genre_df_Animation['ANIMATION']!= 0]\n",
    "Score_Genre_df_Animation"
   ]
  },
  {
   "cell_type": "code",
   "execution_count": null,
   "id": "6df18409",
   "metadata": {},
   "outputs": [],
   "source": [
    "# Comedy\n",
    "Score_Genre_df_Comedy = Score_Genre_df.filter(['Hidden_Gem_Score','IMDb_Score','Rotten_Tomatoes_Score','Metacritic_Score', 'COMEDY'])\n",
    "Score_Genre_df_Comedy = Score_Genre_df_Comedy[Score_Genre_df_Comedy['COMEDY']!= 0]\n",
    "Score_Genre_df_Comedy"
   ]
  },
  {
   "cell_type": "code",
   "execution_count": null,
   "id": "51eb8e22",
   "metadata": {},
   "outputs": [],
   "source": [
    "# Romance\n",
    "Score_Genre_df_Romance = Score_Genre_df.filter(['Hidden_Gem_Score','IMDb_Score','Rotten_Tomatoes_Score','Metacritic_Score', 'ROMANCE'])\n",
    "Score_Genre_df_Romance = Score_Genre_df_Romance[Score_Genre_df_Romance['ROMANCE']!= 0]\n",
    "Score_Genre_df_Romance"
   ]
  },
  {
   "cell_type": "code",
   "execution_count": null,
   "id": "f096198f",
   "metadata": {},
   "outputs": [],
   "source": [
    "# Sport\n",
    "Score_Genre_df_Sport = Score_Genre_df.filter(['Hidden_Gem_Score','IMDb_Score','Rotten_Tomatoes_Score','Metacritic_Score', 'SPORT'])\n",
    "Score_Genre_df_Sport = Score_Genre_df_Sport [Score_Genre_df_Sport ['SPORT']!= 0]\n",
    "Score_Genre_df_Sport "
   ]
  },
  {
   "cell_type": "code",
   "execution_count": null,
   "id": "f0586277",
   "metadata": {},
   "outputs": [],
   "source": [
    "# Horror\n",
    "Score_Genre_df_Horror = Score_Genre_df.filter(['Hidden_Gem_Score','IMDb_Score','Rotten_Tomatoes_Score','Metacritic_Score', 'HORROR'])\n",
    "Score_Genre_df_Horror = Score_Genre_df_Horror[Score_Genre_df_Horror['HORROR']!= 0]\n",
    "Score_Genre_df_Horror"
   ]
  },
  {
   "cell_type": "code",
   "execution_count": null,
   "id": "eef41db5",
   "metadata": {},
   "outputs": [],
   "source": [
    "# Documentary\n",
    "Score_Genre_df_Documentary = Score_Genre_df.filter(['Hidden_Gem_Score','IMDb_Score','Rotten_Tomatoes_Score','Metacritic_Score', 'DOCUMENTARY'])\n",
    "Score_Genre_df_Documentary = Score_Genre_df_Documentary[Score_Genre_df_Documentary['DOCUMENTARY']!= 0]\n",
    "Score_Genre_df_Documentary"
   ]
  },
  {
   "cell_type": "code",
   "execution_count": null,
   "id": "4b428e2e",
   "metadata": {},
   "outputs": [],
   "source": [
    "# Western\n",
    "Score_Genre_df_Western = Score_Genre_df.filter(['Hidden_Gem_Score','IMDb_Score','Rotten_Tomatoes_Score','Metacritic_Score', 'WESTERN'])\n",
    "Score_Genre_df_Western = Score_Genre_df_Western[Score_Genre_df_Western['WESTERN']!= 0]\n",
    "Score_Genre_df_Western"
   ]
  },
  {
   "cell_type": "code",
   "execution_count": null,
   "id": "442435ff",
   "metadata": {},
   "outputs": [],
   "source": [
    "# Biography\n",
    "Score_Genre_df_Biography = Score_Genre_df.filter(['Hidden_Gem_Score','IMDb_Score','Rotten_Tomatoes_Score','Metacritic_Score', 'BIOGRAPHY'])\n",
    "Score_Genre_df_Biography = Score_Genre_df_Biography[Score_Genre_df_Biography['BIOGRAPHY']!= 0]\n",
    "Score_Genre_df_Biography"
   ]
  },
  {
   "cell_type": "code",
   "execution_count": null,
   "id": "f7098334",
   "metadata": {},
   "outputs": [],
   "source": [
    "# Family\n",
    "Score_Genre_df_Family = Score_Genre_df.filter(['Hidden_Gem_Score','IMDb_Score','Rotten_Tomatoes_Score','Metacritic_Score', 'FAMILY'])\n",
    "Score_Genre_df_Family = Score_Genre_df_Family[Score_Genre_df_Family['FAMILY']!= 0]\n",
    "Score_Genre_df_Family"
   ]
  },
  {
   "cell_type": "code",
   "execution_count": null,
   "id": "59753b29",
   "metadata": {},
   "outputs": [],
   "source": [
    "# Music\n",
    "Score_Genre_df_Music = Score_Genre_df.filter(['Hidden_Gem_Score','IMDb_Score','Rotten_Tomatoes_Score','Metacritic_Score', 'MUSIC'])\n",
    "Score_Genre_df_Music = Score_Genre_df_Music[Score_Genre_df_Music['MUSIC']!= 0]\n",
    "Score_Genre_df_Music"
   ]
  },
  {
   "cell_type": "code",
   "execution_count": null,
   "id": "41844011",
   "metadata": {},
   "outputs": [],
   "source": [
    "# Musical\n",
    "Score_Genre_df_Musical = Score_Genre_df.filter(['Hidden_Gem_Score','IMDb_Score','Rotten_Tomatoes_Score','Metacritic_Score', 'MUSICAL'])\n",
    "Score_Genre_df_Musical = Score_Genre_df_Musical[Score_Genre_df_Musical['MUSICAL']!= 0]\n",
    "Score_Genre_df_Musical"
   ]
  },
  {
   "cell_type": "code",
   "execution_count": null,
   "id": "9eeff89e",
   "metadata": {},
   "outputs": [],
   "source": [
    "# Fantasy\n",
    "Score_Genre_df_Fantasy = Score_Genre_df.filter(['Hidden_Gem_Score','IMDb_Score','Rotten_Tomatoes_Score','Metacritic_Score', 'FANTASY'])\n",
    "Score_Genre_df_Fantasy = Score_Genre_df_Fantasy[Score_Genre_df_Fantasy['FANTASY']!= 0]\n",
    "Score_Genre_df_Fantasy"
   ]
  },
  {
   "cell_type": "code",
   "execution_count": null,
   "id": "0460f524",
   "metadata": {},
   "outputs": [],
   "source": [
    "# War\n",
    "Score_Genre_df_War = Score_Genre_df.filter(['Hidden_Gem_Score','IMDb_Score','Rotten_Tomatoes_Score','Metacritic_Score', 'WAR'])\n",
    "Score_Genre_df_War = Score_Genre_df_War[Score_Genre_df_War['WAR']!= 0]\n",
    "Score_Genre_df_War"
   ]
  },
  {
   "cell_type": "code",
   "execution_count": null,
   "id": "5fce47fa",
   "metadata": {},
   "outputs": [],
   "source": [
    "# News\n",
    "Score_Genre_df_News = Score_Genre_df.filter(['Hidden_Gem_Score','IMDb_Score','Rotten_Tomatoes_Score','Metacritic_Score', 'NEWS'])\n",
    "Score_Genre_df_News = Score_Genre_df_News[Score_Genre_df_News['NEWS']!= 0]\n",
    "Score_Genre_df_News"
   ]
  }
 ],
 "metadata": {
  "kernelspec": {
   "display_name": "Python 3 (ipykernel)",
   "language": "python",
   "name": "python3"
  },
  "language_info": {
   "codemirror_mode": {
    "name": "ipython",
    "version": 3
   },
   "file_extension": ".py",
   "mimetype": "text/x-python",
   "name": "python",
   "nbconvert_exporter": "python",
   "pygments_lexer": "ipython3",
   "version": "3.9.12"
  }
 },
 "nbformat": 4,
 "nbformat_minor": 5
}
