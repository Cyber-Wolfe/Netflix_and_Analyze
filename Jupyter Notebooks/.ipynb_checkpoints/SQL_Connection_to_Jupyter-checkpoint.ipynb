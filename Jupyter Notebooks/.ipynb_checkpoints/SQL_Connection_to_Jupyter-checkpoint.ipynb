{
 "cells": [
  {
   "cell_type": "code",
   "execution_count": 8,
   "id": "4311732a",
   "metadata": {},
   "outputs": [],
   "source": [
    "import pandas as pd\n",
    "import pyodbc"
   ]
  },
  {
   "cell_type": "code",
   "execution_count": 9,
   "id": "b4fbf17e",
   "metadata": {},
   "outputs": [],
   "source": [
    "#DB server info\n",
    "server = 'lorum'\n",
    "serverdb = 'ipsum'"
   ]
  },
  {
   "cell_type": "code",
   "execution_count": 10,
   "id": "1b0f5ae0",
   "metadata": {},
   "outputs": [
    {
     "ename": "OperationalError",
     "evalue": "('08001', '[08001] [Microsoft][ODBC SQL Server Driver][DBNETLIB]SQL Server does not exist or access denied. (17) (SQLDriverConnect); [08001] [Microsoft][ODBC SQL Server Driver][DBNETLIB]ConnectionOpen (Connect()). (53)')",
     "output_type": "error",
     "traceback": [
      "\u001b[1;31m---------------------------------------------------------------------------\u001b[0m",
      "\u001b[1;31mOperationalError\u001b[0m                          Traceback (most recent call last)",
      "\u001b[1;32m~\\AppData\\Local\\Temp/ipykernel_15176/2628288662.py\u001b[0m in \u001b[0;36m<module>\u001b[1;34m\u001b[0m\n\u001b[0;32m      1\u001b[0m \u001b[1;31m#Create Connection\u001b[0m\u001b[1;33m\u001b[0m\u001b[1;33m\u001b[0m\u001b[0m\n\u001b[1;32m----> 2\u001b[1;33m \u001b[0mserverConn\u001b[0m \u001b[1;33m=\u001b[0m \u001b[0mpyodbc\u001b[0m\u001b[1;33m.\u001b[0m\u001b[0mconnect\u001b[0m\u001b[1;33m(\u001b[0m\u001b[1;34mr'DRIVER={SQL Server};SERVER='\u001b[0m \u001b[1;33m+\u001b[0m \u001b[0mserver\u001b[0m \u001b[1;33m+\u001b[0m \u001b[1;34mr';DATABASE='\u001b[0m \u001b[1;33m+\u001b[0m \u001b[0mserverdb\u001b[0m \u001b[1;33m+\u001b[0m \u001b[1;34mr';Trusted_Connection=yes'\u001b[0m\u001b[1;33m)\u001b[0m\u001b[1;33m\u001b[0m\u001b[1;33m\u001b[0m\u001b[0m\n\u001b[0m",
      "\u001b[1;31mOperationalError\u001b[0m: ('08001', '[08001] [Microsoft][ODBC SQL Server Driver][DBNETLIB]SQL Server does not exist or access denied. (17) (SQLDriverConnect); [08001] [Microsoft][ODBC SQL Server Driver][DBNETLIB]ConnectionOpen (Connect()). (53)')"
     ]
    }
   ],
   "source": [
    "#Create Connection\n",
    "serverConn = pyodbc.connect(r'DRIVER={SQL Server};SERVER=' + server + r';DATABASE=' + serverdb + r';Trusted_Connection=yes')"
   ]
  },
  {
   "cell_type": "code",
   "execution_count": null,
   "id": "777c21b4",
   "metadata": {},
   "outputs": [],
   "source": [
    "#DB Query\n",
    "\n",
    "msSql = \"\"\"\n",
    "\n",
    "\"\"\""
   ]
  },
  {
   "cell_type": "code",
   "execution_count": null,
   "id": "cdd80fd0",
   "metadata": {},
   "outputs": [],
   "source": [
    "sqlDf = pd.read_sql(msSql, serverConn)\n",
    "df.head()"
   ]
  },
  {
   "cell_type": "code",
   "execution_count": null,
   "id": "f5132949",
   "metadata": {},
   "outputs": [],
   "source": []
  }
 ],
 "metadata": {
  "kernelspec": {
   "display_name": "PythonData",
   "language": "python",
   "name": "pythondata"
  },
  "language_info": {
   "codemirror_mode": {
    "name": "ipython",
    "version": 3
   },
   "file_extension": ".py",
   "mimetype": "text/x-python",
   "name": "python",
   "nbconvert_exporter": "python",
   "pygments_lexer": "ipython3",
   "version": "3.9.7"
  }
 },
 "nbformat": 4,
 "nbformat_minor": 5
}
