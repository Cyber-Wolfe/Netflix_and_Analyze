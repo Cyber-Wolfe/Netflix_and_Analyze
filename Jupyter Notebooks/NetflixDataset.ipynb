{
 "cells": [
  {
   "cell_type": "code",
   "execution_count": null,
   "id": "b36ef755",
   "metadata": {},
   "outputs": [],
   "source": [
    "import pandas as pd\n",
    "import numpy as np\n",
    "import csv\n",
    "import os\n",
    "from pathlib import Path"
   ]
  },
  {
   "cell_type": "code",
   "execution_count": null,
   "id": "774e7a3b",
   "metadata": {},
   "outputs": [],
   "source": [
    "#pip install openpyxl"
   ]
  },
  {
   "cell_type": "code",
   "execution_count": null,
   "id": "28ea9b89",
   "metadata": {},
   "outputs": [],
   "source": [
    "original_netflix_df = pd.read_excel('../Excel Sheets/Netflix Dataset Latest 2021 Filtered - Data.xlsx', engine='openpyxl')\n",
    "original_netflix_df"
   ]
  },
  {
   "cell_type": "code",
   "execution_count": null,
   "id": "636dc735",
   "metadata": {},
   "outputs": [],
   "source": [
    "original_netflix_df.dtypes"
   ]
  },
  {
   "cell_type": "code",
   "execution_count": null,
   "id": "41fd5214",
   "metadata": {},
   "outputs": [],
   "source": [
    "#Accessing a Release Date Column\n",
    "print(original_netflix_df['Release Date'])"
   ]
  },
  {
   "cell_type": "code",
   "execution_count": null,
   "id": "d6b20961",
   "metadata": {},
   "outputs": [],
   "source": [
    "original_netflix_df.count()"
   ]
  },
  {
   "cell_type": "code",
   "execution_count": null,
   "id": "797c1ba5",
   "metadata": {},
   "outputs": [],
   "source": [
    "#to a list to see all of the columns.\n",
    "original_netflix_df.columns.tolist()"
   ]
  },
  {
   "cell_type": "code",
   "execution_count": null,
   "id": "6cec3c67",
   "metadata": {},
   "outputs": [],
   "source": [
    "# Read and convert original Netflix data into df- File cleaned thru sql - Removed duplicates(Titles, Released Date, Movie Type)\n",
    "netflix_data= pd.ExcelFile('../Excel Sheets/Netflix Dataset Latest 2021 Filtered - Data_Ready_for_DF.xlsx', engine='openpyxl')\n",
    "data_df = pd.read_excel(netflix_data)\n",
    "data_df"
   ]
  },
  {
   "cell_type": "code",
   "execution_count": null,
   "id": "536eb7ef",
   "metadata": {},
   "outputs": [],
   "source": [
    "# Check columns in df\n",
    "data_df.columns"
   ]
  },
  {
   "cell_type": "code",
   "execution_count": null,
   "id": "eee1b5e8",
   "metadata": {},
   "outputs": [],
   "source": [
    "# Find null values\n",
    "for column in data_df.columns:\n",
    "    print(f\"Column {column} has {data_df[column].isnull().sum()} null values\")"
   ]
  },
  {
   "cell_type": "code",
   "execution_count": null,
   "id": "c7e176e7",
   "metadata": {},
   "outputs": [],
   "source": [
    "# Remove the Column that not required\n",
    "data_df.drop(columns=[\"Country Availability\",\"Runtime\",\"Director\",\"Writer\",\"Actors\",\"Awards Received\",\"Awards Nominated For\",\"Boxoffice\",\"Netflix Release Date\",\"Production House\",\"Netflix Link\",\"Summary\",\"IMDb Votes\",\"Image\",\"Poster\",\"TMDb Trailer\",\"Trailer Site\",\"IMDb Link\"], inplace=True)\n",
    "data_df"
   ]
  },
  {
   "cell_type": "code",
   "execution_count": null,
   "id": "1db1a0bb",
   "metadata": {},
   "outputs": [],
   "source": [
    "# Find null values\n",
    "for column in data_df.columns:\n",
    "    print(f\"Column {column} has {data_df[column].isnull().sum()} null values\")"
   ]
  },
  {
   "cell_type": "code",
   "execution_count": null,
   "id": "25706cd0",
   "metadata": {},
   "outputs": [],
   "source": [
    "data_df.dtypes"
   ]
  },
  {
   "cell_type": "code",
   "execution_count": null,
   "id": "8d98276e",
   "metadata": {},
   "outputs": [],
   "source": [
    "# Drop the columns not required\n",
    "new_data_df =data_df[['Title','Key','Genre','Tags','Languages','Series or Movie','Hidden Gem Score','View Rating','IMDb Score','Rotten Tomatoes Score','Metacritic Score','Release Date',]]"
   ]
  },
  {
   "cell_type": "code",
   "execution_count": null,
   "id": "dd24e7e8",
   "metadata": {},
   "outputs": [],
   "source": [
    "# updated data frame \n",
    "new_data_df"
   ]
  },
  {
   "cell_type": "code",
   "execution_count": null,
   "id": "ac8e0a8e",
   "metadata": {},
   "outputs": [],
   "source": [
    "# find duplicate entries\n",
    "print(f\"Duplicate entries:{new_data_df.duplicated().sum()})\")"
   ]
  },
  {
   "cell_type": "code",
   "execution_count": null,
   "id": "522f7c35",
   "metadata": {},
   "outputs": [],
   "source": [
    "# Drop null rows\n",
    "new_data_df = new_data_df.dropna()\n",
    "new_data_df"
   ]
  },
  {
   "cell_type": "code",
   "execution_count": null,
   "id": "abb46217",
   "metadata": {},
   "outputs": [],
   "source": [
    "# Saving cleaned data\n",
    "file_path = \"../csv_file/Netflix_data_cleaned.csv\"\n",
    "new_data_df.to_csv(file_path, index=False)"
   ]
  },
  {
   "cell_type": "code",
   "execution_count": null,
   "id": "7843d4a2",
   "metadata": {},
   "outputs": [],
   "source": [
    "# Drop the columns not required for Machine learning\n",
    "ML_data_df =new_data_df[['Key','Hidden Gem Score','IMDb Score','Rotten Tomatoes Score','Metacritic Score']]\n",
    "ML_data_df "
   ]
  },
  {
   "cell_type": "code",
   "execution_count": null,
   "id": "4e9ae354",
   "metadata": {},
   "outputs": [],
   "source": [
    "# Saving ML_data_df as csv file for Machine Learning \n",
    "file_path = \"../csv_file/Netflix_data_ML.csv\"\n",
    "ML_data_df.to_csv(file_path, index=False)"
   ]
  },
  {
   "cell_type": "code",
   "execution_count": null,
   "id": "d4a7109a",
   "metadata": {},
   "outputs": [],
   "source": [
    "# Read and convert Genre_Type data into df\n",
    "netflix_genreType= pd.ExcelFile('../Excel Sheets/Netflix Dataset Latest 2021 Filtered - Genre_Type .xlsx', engine='openpyxl')\n",
    "genreType_df = pd.read_excel(netflix_genreType)\n",
    "genreType_df"
   ]
  },
  {
   "cell_type": "code",
   "execution_count": null,
   "id": "7b17717a",
   "metadata": {},
   "outputs": [],
   "source": [
    "# Read and convert Language_Type data into df\n",
    "netflix_language= pd.ExcelFile('../Excel Sheets/Netflix Dataset Latest 2021 Filtered - Language_Type.xlsx',engine='openpyxl')\n",
    "language_df = pd.read_excel(netflix_language)\n",
    "language_df"
   ]
  },
  {
   "cell_type": "code",
   "execution_count": null,
   "id": "fc4eef4f",
   "metadata": {},
   "outputs": [],
   "source": []
  }
 ],
 "metadata": {
  "kernelspec": {
   "display_name": "Python 3 (ipykernel)",
   "language": "python",
   "name": "python3"
  },
  "language_info": {
   "codemirror_mode": {
    "name": "ipython",
    "version": 3
   },
   "file_extension": ".py",
   "mimetype": "text/x-python",
   "name": "python",
   "nbconvert_exporter": "python",
   "pygments_lexer": "ipython3",
   "version": "3.9.7"
  }
 },
 "nbformat": 4,
 "nbformat_minor": 5
}
