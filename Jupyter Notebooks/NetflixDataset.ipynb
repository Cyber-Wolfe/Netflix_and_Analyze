{
 "cells": [
  {
   "cell_type": "code",
   "execution_count": 19,
   "id": "b36ef755",
   "metadata": {},
   "outputs": [],
   "source": [
    "import pandas as pd\n",
    "import numpy as np\n",
    "import csv\n",
    "import os\n",
    "from pathlib import Path"
   ]
  },
  {
   "cell_type": "code",
   "execution_count": 20,
   "id": "774e7a3b",
   "metadata": {},
   "outputs": [],
   "source": [
    "#pip install openpyxl"
   ]
  },
  {
   "cell_type": "code",
   "execution_count": 27,
   "id": "28ea9b89",
   "metadata": {},
   "outputs": [
    {
     "ename": "TypeError",
     "evalue": "unsupported operand type(s) for /: 'str' and 'str'",
     "output_type": "error",
     "traceback": [
      "\u001b[1;31m---------------------------------------------------------------------------\u001b[0m",
      "\u001b[1;31mTypeError\u001b[0m                                 Traceback (most recent call last)",
      "\u001b[1;32m~\\AppData\\Local\\Temp/ipykernel_25012/1842073940.py\u001b[0m in \u001b[0;36m<module>\u001b[1;34m\u001b[0m\n\u001b[1;32m----> 1\u001b[1;33m \u001b[0moriginal_netflix_df\u001b[0m \u001b[1;33m=\u001b[0m \u001b[0mpd\u001b[0m\u001b[1;33m.\u001b[0m\u001b[0mread_excel\u001b[0m\u001b[1;33m(\u001b[0m\u001b[1;34m'..'\u001b[0m\u001b[1;33m/\u001b[0m\u001b[1;34m'Excel Sheets\"/\"Netflix Dataset Latest 2021 Filtered.xlsx'\u001b[0m\u001b[1;33m,\u001b[0m \u001b[0mengine\u001b[0m\u001b[1;33m=\u001b[0m\u001b[1;34m'openpyxl'\u001b[0m\u001b[1;33m)\u001b[0m\u001b[1;33m\u001b[0m\u001b[1;33m\u001b[0m\u001b[0m\n\u001b[0m",
      "\u001b[1;31mTypeError\u001b[0m: unsupported operand type(s) for /: 'str' and 'str'"
     ]
    }
   ],
   "source": [
    "original_netflix_df = pd.read_excel('..'/'Excel Sheets\"/\"Netflix Dataset Latest 2021 Filtered.xlsx', engine='openpyxl')"
   ]
  },
  {
   "cell_type": "code",
   "execution_count": 23,
   "id": "133674be",
   "metadata": {},
   "outputs": [
    {
     "ename": "TypeError",
     "evalue": "__init__() got multiple values for argument 'engine'",
     "output_type": "error",
     "traceback": [
      "\u001b[1;31m---------------------------------------------------------------------------\u001b[0m",
      "\u001b[1;31mTypeError\u001b[0m                                 Traceback (most recent call last)",
      "\u001b[1;32m~\\AppData\\Local\\Temp/ipykernel_25012/4157993608.py\u001b[0m in \u001b[0;36m<module>\u001b[1;34m\u001b[0m\n\u001b[0;32m      1\u001b[0m \u001b[1;31m# Read and convert original Netflix data into df\u001b[0m\u001b[1;33m\u001b[0m\u001b[1;33m\u001b[0m\u001b[0m\n\u001b[1;32m----> 2\u001b[1;33m \u001b[0mnetflix_data_raw\u001b[0m\u001b[1;33m=\u001b[0m \u001b[0mpd\u001b[0m\u001b[1;33m.\u001b[0m\u001b[0mExcelFile\u001b[0m\u001b[1;33m(\u001b[0m\u001b[1;34m\"Excel Sheets\"\u001b[0m\u001b[1;33m,\u001b[0m\u001b[1;34m\"Netflix Dataset Latest 2021 Filtered.xlsx\"\u001b[0m\u001b[1;33m,\u001b[0m \u001b[0mengine\u001b[0m\u001b[1;33m=\u001b[0m\u001b[1;34m'openpyxl'\u001b[0m\u001b[1;33m)\u001b[0m\u001b[1;33m\u001b[0m\u001b[1;33m\u001b[0m\u001b[0m\n\u001b[0m\u001b[0;32m      3\u001b[0m \u001b[0moriginal_netflix_df\u001b[0m \u001b[1;33m=\u001b[0m \u001b[0mpd\u001b[0m\u001b[1;33m.\u001b[0m\u001b[0mread_excel\u001b[0m\u001b[1;33m(\u001b[0m\u001b[0mnetflix_data_raw\u001b[0m\u001b[1;33m)\u001b[0m\u001b[1;33m\u001b[0m\u001b[1;33m\u001b[0m\u001b[0m\n",
      "\u001b[1;31mTypeError\u001b[0m: __init__() got multiple values for argument 'engine'"
     ]
    }
   ],
   "source": [
    "# Read and convert original Netflix data into df\n",
    "netflix_data_raw= pd.ExcelFile(\"Excel Sheets\",\"Netflix Dataset Latest 2021 Filtered.xlsx\", engine='openpyxl')\n",
    "original_netflix_df = pd.read_excel(netflix_data_raw)"
   ]
  },
  {
   "cell_type": "code",
   "execution_count": null,
   "id": "29339691",
   "metadata": {},
   "outputs": [],
   "source": [
    "original_netflix_df"
   ]
  },
  {
   "cell_type": "code",
   "execution_count": null,
   "id": "636dc735",
   "metadata": {},
   "outputs": [],
   "source": [
    "original_netflix_df.dtypes"
   ]
  },
  {
   "cell_type": "code",
   "execution_count": null,
   "id": "d6b20961",
   "metadata": {},
   "outputs": [],
   "source": [
    "original_netflix_df.count()"
   ]
  },
  {
   "cell_type": "code",
   "execution_count": null,
   "id": "797c1ba5",
   "metadata": {},
   "outputs": [],
   "source": [
    "#to a list to see all of the columns.\n",
    "original_netflix_df.columns.tolist()"
   ]
  },
  {
   "cell_type": "code",
   "execution_count": null,
   "id": "6cec3c67",
   "metadata": {},
   "outputs": [],
   "source": [
    "# Read and convert original Netflix data into df\n",
    "netflix_data= pd.ExcelFile(\"Netflix Dataset Latest 2021 Filtered - Data.xlsx\")\n",
    "data_df = pd.read_excel(netflix_data)\n",
    "data_df"
   ]
  },
  {
   "cell_type": "code",
   "execution_count": null,
   "id": "d4a7109a",
   "metadata": {},
   "outputs": [],
   "source": [
    "# Read and convert original Netflix data into df\n",
    "netflix_genreType= pd.ExcelFile(\"Netflix Dataset Latest 2021 Filtered - Genre_Type .xlsx\")\n",
    "genreType_df = pd.read_excel(netflix_genreType)\n",
    "genreType_df"
   ]
  },
  {
   "cell_type": "code",
   "execution_count": null,
   "id": "7b17717a",
   "metadata": {},
   "outputs": [],
   "source": [
    "# Read and convert original Netflix data into df\n",
    "netflix_language= pd.ExcelFile(\"Netflix Dataset Latest 2021 Filtered - Language_Type.xlsx\")\n",
    "language_df = pd.read_excel(netflix_language)\n",
    "language_df"
   ]
  },
  {
   "cell_type": "code",
   "execution_count": null,
   "id": "21539a1a",
   "metadata": {},
   "outputs": [],
   "source": []
  }
 ],
 "metadata": {
  "kernelspec": {
   "display_name": "Python 3 (ipykernel)",
   "language": "python",
   "name": "python3"
  },
  "language_info": {
   "codemirror_mode": {
    "name": "ipython",
    "version": 3
   },
   "file_extension": ".py",
   "mimetype": "text/x-python",
   "name": "python",
   "nbconvert_exporter": "python",
   "pygments_lexer": "ipython3",
   "version": "3.9.7"
  }
 },
 "nbformat": 4,
 "nbformat_minor": 5
}
