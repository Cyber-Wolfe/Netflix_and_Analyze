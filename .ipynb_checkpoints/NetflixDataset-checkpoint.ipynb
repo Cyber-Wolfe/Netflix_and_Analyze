{
 "cells": [
  {
   "cell_type": "code",
   "execution_count": 1,
   "id": "b36ef755",
   "metadata": {},
   "outputs": [],
   "source": [
    "import pandas as pd\n",
    "import numpy as np\n",
    "import csv\n",
    "import os\n",
    "from pathlib import Path\n",
    "import wget as wg"
   ]
  },
  {
   "cell_type": "code",
   "execution_count": 2,
   "id": "774e7a3b",
   "metadata": {},
   "outputs": [],
   "source": [
    "#pip install openpyxl\n"
   ]
  },
  {
   "cell_type": "code",
   "execution_count": 8,
   "id": "28ea9b89",
   "metadata": {},
   "outputs": [
    {
     "ename": "SyntaxError",
     "evalue": "(unicode error) 'unicodeescape' codec can't decode bytes in position 12-13: malformed \\N character escape (Temp/ipykernel_10988/2156427630.py, line 4)",
     "output_type": "error",
     "traceback": [
      "\u001b[1;36m  File \u001b[1;32m\"C:\\Users\\Ethan\\AppData\\Local\\Temp/ipykernel_10988/2156427630.py\"\u001b[1;36m, line \u001b[1;32m4\u001b[0m\n\u001b[1;33m    with open(\"Excel Sheets\\Netflix Dataset Latest 2021 Filtered - Genre_Type\", mode=\"r\", encoding=\"utf-8\") as file:\u001b[0m\n\u001b[1;37m                                                                              ^\u001b[0m\n\u001b[1;31mSyntaxError\u001b[0m\u001b[1;31m:\u001b[0m (unicode error) 'unicodeescape' codec can't decode bytes in position 12-13: malformed \\N character escape\n"
     ]
    }
   ],
   "source": [
    "#original_netflix_df = pd.read_excel(r\"Excel Sheets\\Netflix Dataset Latest 2021 Filtered - Genre_Type\", engine=\"openpyxl\", encoding_override=\"utf-8\")\n",
    "#original_netflix_df\n",
    "#filename\n",
    "with open(\"Excel Sheets\\Netflix Dataset Latest 2021 Filtered - Genre_Type\", mode=\"r\", encoding=\"utf-8\") as file:\n",
    "    df = pd.read_excel(\"Netflix Dataset Latest 2021 Filtered - Genre_Type\")"
   ]
  },
  {
   "cell_type": "code",
   "execution_count": null,
   "id": "29339691",
   "metadata": {},
   "outputs": [],
   "source": [
    "original_netflix_df"
   ]
  },
  {
   "cell_type": "code",
   "execution_count": null,
   "id": "636dc735",
   "metadata": {},
   "outputs": [],
   "source": [
    "original_netflix_df.dtypes"
   ]
  },
  {
   "cell_type": "code",
   "execution_count": null,
   "id": "d6b20961",
   "metadata": {},
   "outputs": [],
   "source": [
    "original_netflix_df.count()"
   ]
  },
  {
   "cell_type": "code",
   "execution_count": null,
   "id": "797c1ba5",
   "metadata": {},
   "outputs": [],
   "source": [
    "#to a list to see all of the columns.\n",
    "original_netflix_df.columns.tolist()"
   ]
  },
  {
   "cell_type": "code",
   "execution_count": null,
   "id": "6cec3c67",
   "metadata": {},
   "outputs": [],
   "source": [
    "# Read and convert original Netflix data into df\n",
    "netflix_data= pd.ExcelFile('../Excel Sheets/Netflix Dataset Latest 2021 Filtered - Data.xlsx', engine='openpyxl')\n",
    "data_df = pd.read_excel(netflix_data)\n",
    "data_df"
   ]
  },
  {
   "cell_type": "code",
   "execution_count": null,
   "id": "d4a7109a",
   "metadata": {},
   "outputs": [],
   "source": [
    "# Read and convert original Netflix data into df\n",
    "netflix_genreType= pd.ExcelFile('../Excel Sheets/Netflix Dataset Latest 2021 Filtered - Genre_Type .xlsx', engine='openpyxl')\n",
    "genreType_df = pd.read_excel(netflix_genreType)\n",
    "genreType_df"
   ]
  },
  {
   "cell_type": "code",
   "execution_count": null,
   "id": "7b17717a",
   "metadata": {},
   "outputs": [],
   "source": [
    "# Read and convert original Netflix data into df\n",
    "netflix_language= pd.ExcelFile('../Excel Sheets/Netflix Dataset Latest 2021 Filtered - Language_Type.xlsx',engine='openpyxl')\n",
    "language_df = pd.read_excel(netflix_language)\n",
    "language_df"
   ]
  },
  {
   "cell_type": "code",
   "execution_count": null,
   "id": "21539a1a",
   "metadata": {},
   "outputs": [],
   "source": []
  }
 ],
 "metadata": {
  "kernelspec": {
   "display_name": "Python 3 (ipykernel)",
   "language": "python",
   "name": "python3"
  },
  "language_info": {
   "codemirror_mode": {
    "name": "ipython",
    "version": 3
   },
   "file_extension": ".py",
   "mimetype": "text/x-python",
   "name": "python",
   "nbconvert_exporter": "python",
   "pygments_lexer": "ipython3",
   "version": "3.9.7"
  }
 },
 "nbformat": 4,
 "nbformat_minor": 5
}
