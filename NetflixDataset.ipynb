{
 "cells": [
  {
   "cell_type": "code",
   "execution_count": 9,
   "id": "7dd6dd24",
   "metadata": {},
   "outputs": [],
   "source": [
    "import pandas as pd\n",
    "import numpy as np\n",
    "import csv\n",
    "import os\n"
   ]
  },
  {
   "cell_type": "code",
   "execution_count": 4,
   "id": "f5c4654d",
   "metadata": {},
   "outputs": [
    {
     "name": "stdout",
     "output_type": "stream",
     "text": [
      "Requirement already satisfied: openpyxl in c:\\users\\valla\\.conda\\envs\\python_data\\lib\\site-packages (3.0.10)Note: you may need to restart the kernel to use updated packages.\n",
      "Requirement already satisfied: et-xmlfile in c:\\users\\valla\\.conda\\envs\\python_data\\lib\\site-packages (from openpyxl) (1.1.0)\n",
      "\n"
     ]
    }
   ],
   "source": [
    "#pip install openpyxl"
   ]
  },
  {
   "cell_type": "code",
   "execution_count": 7,
   "id": "2ca35954",
   "metadata": {},
   "outputs": [
    {
     "ename": "SyntaxError",
     "evalue": "(unicode error) 'unicodeescape' codec can't decode bytes in position 32-33: malformed \\N character escape (Temp/ipykernel_892/209010273.py, line 5)",
     "output_type": "error",
     "traceback": [
      "\u001b[1;36m  File \u001b[1;32m\"C:\\Users\\valla\\AppData\\Local\\Temp/ipykernel_892/209010273.py\"\u001b[1;36m, line \u001b[1;32m5\u001b[0m\n\u001b[1;33m    original_netflix_df = pd.read_csv('C:\\Rutgers\\FINAL PROJECT\\Project\\Netflix_and_Analyze\\Excel Sheets\\CSVs\\Netflix_Dataset_Latest_2021_Filtered.csv',encoding = 'utf-16')\u001b[0m\n\u001b[1;37m                                                                                                                                                       ^\u001b[0m\n\u001b[1;31mSyntaxError\u001b[0m\u001b[1;31m:\u001b[0m (unicode error) 'unicodeescape' codec can't decode bytes in position 32-33: malformed \\N character escape\n"
     ]
    }
   ],
   "source": [
    "# Read and convert original Netflix data into df\n",
    "#netflix_data_raw= pd.ExcelFile(\"Netflix Dataset Latest 2021 Filtered.xlsx\")\n",
    "#netflix_data_raw = './Excel Sheets/CSVs/Netflix_Dataset_Latest_2021_Filtered.csv'\n",
    "#netflix_data_raw = os.path.join(\"Excel Sheets\",\"CSVs\",\"Netflix_Dataset_Latest_2021_Filtered.csv\")\n",
    "original_netflix_df = pd.read_csv('C:\\Rutgers\\FINAL PROJECT\\Project\\Netflix_and_Analyze\\Excel Sheets\\CSVs\\Netflix_Dataset_Latest_2021_Filtered.csv',encoding = 'utf-16')"
   ]
  },
  {
   "cell_type": "code",
   "execution_count": null,
   "id": "fd862bc9",
   "metadata": {},
   "outputs": [],
   "source": [
    "original_netflix_df"
   ]
  },
  {
   "cell_type": "code",
   "execution_count": null,
   "id": "2fbc064f",
   "metadata": {},
   "outputs": [],
   "source": [
    "original_netflix_df.dtypes"
   ]
  },
  {
   "cell_type": "code",
   "execution_count": null,
   "id": "d14fb684",
   "metadata": {},
   "outputs": [],
   "source": [
    "original_netflix_df.count()"
   ]
  },
  {
   "cell_type": "code",
   "execution_count": null,
   "id": "bc4d8094",
   "metadata": {},
   "outputs": [],
   "source": [
    "#to a list to see all of the columns.\n",
    "original_netflix_df.columns.tolist()"
   ]
  },
  {
   "cell_type": "code",
   "execution_count": null,
   "id": "af8bf375",
   "metadata": {},
   "outputs": [],
   "source": [
    "# Read and convert original Netflix data into df\n",
    "netflix_data= pd.ExcelFile(\"Netflix Dataset Latest 2021 Filtered - Data.xlsx\")\n",
    "data_df = pd.read_excel(netflix_data)\n",
    "data_df"
   ]
  },
  {
   "cell_type": "code",
   "execution_count": null,
   "id": "c40ffdd3",
   "metadata": {},
   "outputs": [],
   "source": [
    "# Read and convert original Netflix data into df\n",
    "netflix_genreType= pd.ExcelFile(\"Netflix Dataset Latest 2021 Filtered - Genre_Type .xlsx\")\n",
    "genreType_df = pd.read_excel(netflix_genreType)\n",
    "genreType_df"
   ]
  },
  {
   "cell_type": "code",
   "execution_count": null,
   "id": "4586251f",
   "metadata": {},
   "outputs": [],
   "source": [
    "# Read and convert original Netflix data into df\n",
    "netflix_language= pd.ExcelFile(\"Netflix Dataset Latest 2021 Filtered - Language_Type.xlsx\")\n",
    "language_df = pd.read_excel(netflix_language)\n",
    "language_df"
   ]
  },
  {
   "cell_type": "code",
   "execution_count": null,
   "id": "3c64f92b",
   "metadata": {},
   "outputs": [],
   "source": []
  }
 ],
 "metadata": {
  "kernelspec": {
   "display_name": "Python 3 (ipykernel)",
   "language": "python",
   "name": "python3"
  },
  "language_info": {
   "codemirror_mode": {
    "name": "ipython",
    "version": 3
   },
   "file_extension": ".py",
   "mimetype": "text/x-python",
   "name": "python",
   "nbconvert_exporter": "python",
   "pygments_lexer": "ipython3",
   "version": "3.9.7"
  }
 },
 "nbformat": 4,
 "nbformat_minor": 5
}
